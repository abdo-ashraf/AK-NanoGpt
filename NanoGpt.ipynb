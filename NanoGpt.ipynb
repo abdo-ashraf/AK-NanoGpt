{
 "cells": [
  {
   "cell_type": "code",
   "execution_count": 1,
   "id": "bc9e6462",
   "metadata": {
    "execution": {
     "iopub.execute_input": "2024-11-20T16:14:17.110619Z",
     "iopub.status.busy": "2024-11-20T16:14:17.110298Z",
     "iopub.status.idle": "2024-11-20T16:14:20.105051Z",
     "shell.execute_reply": "2024-11-20T16:14:20.104318Z"
    },
    "executionInfo": {
     "elapsed": 7187,
     "status": "ok",
     "timestamp": 1732113542417,
     "user": {
      "displayName": "Abdelrhman Ashraf",
      "userId": "11249532378747886614"
     },
     "user_tz": -120
    },
    "id": "lQ0wFYZEk0y9",
    "papermill": {
     "duration": 3.004005,
     "end_time": "2024-11-20T16:14:20.107073",
     "exception": false,
     "start_time": "2024-11-20T16:14:17.103068",
     "status": "completed"
    },
    "tags": []
   },
   "outputs": [],
   "source": [
    "import torch\n",
    "import torch.nn as nn\n",
    "from torch.nn import functional as F\n",
    "from torch.optim import AdamW"
   ]
  },
  {
   "cell_type": "code",
   "execution_count": 2,
   "id": "dcc9476c",
   "metadata": {
    "execution": {
     "iopub.execute_input": "2024-11-20T16:14:20.121092Z",
     "iopub.status.busy": "2024-11-20T16:14:20.120763Z",
     "iopub.status.idle": "2024-11-20T16:14:20.193725Z",
     "shell.execute_reply": "2024-11-20T16:14:20.193142Z"
    },
    "executionInfo": {
     "elapsed": 3,
     "status": "ok",
     "timestamp": 1732113542417,
     "user": {
      "displayName": "Abdelrhman Ashraf",
      "userId": "11249532378747886614"
     },
     "user_tz": -120
    },
    "id": "4k740-l_k0y-",
    "papermill": {
     "duration": 0.081113,
     "end_time": "2024-11-20T16:14:20.195336",
     "exception": false,
     "start_time": "2024-11-20T16:14:20.114223",
     "status": "completed"
    },
    "tags": []
   },
   "outputs": [],
   "source": [
    "batch_size = 32\n",
    "block_size = 128\n",
    "dim_embd = 384\n",
    "num_heads = 6\n",
    "n_blocks = 4\n",
    "dropout=0.2\n",
    "head_size = 384\n",
    "learning_rate = 3e-4\n",
    "ffrwd_in_features = 384\n",
    "\n",
    "max_iters = 2500\n",
    "eval_interval = 500\n",
    "eval_iters = 100\n",
    "\n",
    "\n",
    "device = 'cuda' if torch.cuda.is_available() else 'cpu'\n",
    "seed = 1337\n",
    "g = torch.manual_seed(seed)\n"
   ]
  },
  {
   "cell_type": "code",
   "execution_count": 3,
   "id": "79f384bd",
   "metadata": {
    "execution": {
     "iopub.execute_input": "2024-11-20T16:14:20.207982Z",
     "iopub.status.busy": "2024-11-20T16:14:20.207329Z",
     "iopub.status.idle": "2024-11-20T16:14:21.327196Z",
     "shell.execute_reply": "2024-11-20T16:14:21.325988Z"
    },
    "executionInfo": {
     "elapsed": 602,
     "status": "ok",
     "timestamp": 1732113543017,
     "user": {
      "displayName": "Abdelrhman Ashraf",
      "userId": "11249532378747886614"
     },
     "user_tz": -120
    },
    "id": "KiKWzqu8lBwA",
    "papermill": {
     "duration": 1.128342,
     "end_time": "2024-11-20T16:14:21.329379",
     "exception": false,
     "start_time": "2024-11-20T16:14:20.201037",
     "status": "completed"
    },
    "tags": []
   },
   "outputs": [],
   "source": [
    "!wget -q https://raw.githubusercontent.com/karpathy/char-rnn/master/data/tinyshakespeare/input.txt"
   ]
  },
  {
   "cell_type": "code",
   "execution_count": 4,
   "id": "76a8df70",
   "metadata": {
    "execution": {
     "iopub.execute_input": "2024-11-20T16:14:21.342398Z",
     "iopub.status.busy": "2024-11-20T16:14:21.341832Z",
     "iopub.status.idle": "2024-11-20T16:14:21.349196Z",
     "shell.execute_reply": "2024-11-20T16:14:21.348282Z"
    },
    "executionInfo": {
     "elapsed": 4,
     "status": "ok",
     "timestamp": 1732113543017,
     "user": {
      "displayName": "Abdelrhman Ashraf",
      "userId": "11249532378747886614"
     },
     "user_tz": -120
    },
    "id": "2Yqwnykkk0y-",
    "outputId": "be8a78e5-f239-4b25-822b-e515f57ae307",
    "papermill": {
     "duration": 0.01556,
     "end_time": "2024-11-20T16:14:21.350764",
     "exception": false,
     "start_time": "2024-11-20T16:14:21.335204",
     "status": "completed"
    },
    "tags": []
   },
   "outputs": [
    {
     "name": "stdout",
     "output_type": "stream",
     "text": [
      "len(text) = 1115394 characters\n",
      "-------------Data-------------\n",
      "First Citizen:\n",
      "Before we proceed any further, hear me speak.\n",
      "\n",
      "All:\n",
      "Speak, speak.\n",
      "\n",
      "First Citizen:\n",
      "You\n"
     ]
    }
   ],
   "source": [
    "with open('./input.txt') as f:\n",
    "    text = f.read()\n",
    "print(f\"{len(text) = } characters\", end='\\n-------------Data-------------\\n')\n",
    "print(text[:100])"
   ]
  },
  {
   "cell_type": "markdown",
   "id": "9b5f6460",
   "metadata": {
    "id": "biJPWhsSk0y_",
    "papermill": {
     "duration": 0.005507,
     "end_time": "2024-11-20T16:14:21.362140",
     "exception": false,
     "start_time": "2024-11-20T16:14:21.356633",
     "status": "completed"
    },
    "tags": []
   },
   "source": [
    "### Build our char level vocabulary"
   ]
  },
  {
   "cell_type": "code",
   "execution_count": 5,
   "id": "a8e5fc45",
   "metadata": {
    "execution": {
     "iopub.execute_input": "2024-11-20T16:14:21.374756Z",
     "iopub.status.busy": "2024-11-20T16:14:21.374414Z",
     "iopub.status.idle": "2024-11-20T16:14:21.391459Z",
     "shell.execute_reply": "2024-11-20T16:14:21.390563Z"
    },
    "executionInfo": {
     "elapsed": 3,
     "status": "ok",
     "timestamp": 1732113543017,
     "user": {
      "displayName": "Abdelrhman Ashraf",
      "userId": "11249532378747886614"
     },
     "user_tz": -120
    },
    "id": "79BeVu3Sk0zA",
    "outputId": "84a23a77-9daf-4ef1-e683-9e6e3d02d627",
    "papermill": {
     "duration": 0.025234,
     "end_time": "2024-11-20T16:14:21.392990",
     "exception": false,
     "start_time": "2024-11-20T16:14:21.367756",
     "status": "completed"
    },
    "tags": []
   },
   "outputs": [
    {
     "name": "stdout",
     "output_type": "stream",
     "text": [
      "65\n"
     ]
    }
   ],
   "source": [
    "chars = sorted(list(set(text)))\n",
    "stoi = {ch:idx for idx, ch in enumerate(chars)}\n",
    "itos = {idx:ch for idx, ch in enumerate(chars)}\n",
    "vocab_size = len(chars)\n",
    "print(vocab_size)"
   ]
  },
  {
   "cell_type": "code",
   "execution_count": null,
   "id": "5c86e7de",
   "metadata": {},
   "outputs": [],
   "source": [
    "torch.save(stoi, './stoi.pt')"
   ]
  },
  {
   "cell_type": "code",
   "execution_count": 6,
   "id": "298515f9",
   "metadata": {
    "execution": {
     "iopub.execute_input": "2024-11-20T16:14:21.405081Z",
     "iopub.status.busy": "2024-11-20T16:14:21.404828Z",
     "iopub.status.idle": "2024-11-20T16:14:21.409670Z",
     "shell.execute_reply": "2024-11-20T16:14:21.408951Z"
    },
    "executionInfo": {
     "elapsed": 2,
     "status": "ok",
     "timestamp": 1732113543017,
     "user": {
      "displayName": "Abdelrhman Ashraf",
      "userId": "11249532378747886614"
     },
     "user_tz": -120
    },
    "id": "xUmfXZtbk0zA",
    "outputId": "d14adcfd-1c53-4df2-94f0-ddfa5963f582",
    "papermill": {
     "duration": 0.01282,
     "end_time": "2024-11-20T16:14:21.411398",
     "exception": false,
     "start_time": "2024-11-20T16:14:21.398578",
     "status": "completed"
    },
    "tags": []
   },
   "outputs": [
    {
     "name": "stdout",
     "output_type": "stream",
     "text": [
      "[47, 1, 50, 53, 60, 43, 1, 58, 46, 47, 57, 1, 45, 39, 51, 43, 8]\n",
      "i love this game.\n"
     ]
    }
   ],
   "source": [
    "encode = lambda text: [stoi[c] for c in text]\n",
    "decode = lambda tokens: ''.join([itos[c] for c in tokens])\n",
    "raw = 'i love this game.'\n",
    "tokens = encode(raw)\n",
    "print(tokens)\n",
    "print(decode(tokens))"
   ]
  },
  {
   "cell_type": "markdown",
   "id": "23c54410",
   "metadata": {
    "id": "JF8NbOxyk0zA",
    "papermill": {
     "duration": 0.005388,
     "end_time": "2024-11-20T16:14:21.422386",
     "exception": false,
     "start_time": "2024-11-20T16:14:21.416998",
     "status": "completed"
    },
    "tags": []
   },
   "source": [
    "### Encode entire data"
   ]
  },
  {
   "cell_type": "code",
   "execution_count": 7,
   "id": "addb1f95",
   "metadata": {
    "execution": {
     "iopub.execute_input": "2024-11-20T16:14:21.434234Z",
     "iopub.status.busy": "2024-11-20T16:14:21.434010Z",
     "iopub.status.idle": "2024-11-20T16:14:21.637316Z",
     "shell.execute_reply": "2024-11-20T16:14:21.636469Z"
    },
    "executionInfo": {
     "elapsed": 631,
     "status": "ok",
     "timestamp": 1732113543647,
     "user": {
      "displayName": "Abdelrhman Ashraf",
      "userId": "11249532378747886614"
     },
     "user_tz": -120
    },
    "id": "Hs-umn8Sk0zA",
    "outputId": "dc2f7f1c-47fe-44b8-9ab5-05d00f24ad4e",
    "papermill": {
     "duration": 0.211141,
     "end_time": "2024-11-20T16:14:21.638994",
     "exception": false,
     "start_time": "2024-11-20T16:14:21.427853",
     "status": "completed"
    },
    "tags": []
   },
   "outputs": [
    {
     "name": "stdout",
     "output_type": "stream",
     "text": [
      "torch.Size([1115394]) torch.LongTensor\n",
      "tensor([18, 47, 56, 57, 58,  1, 15, 47, 58, 47, 64, 43, 52, 10,  0, 14, 43, 44,\n",
      "        53, 56, 43,  1, 61, 43,  1, 54, 56, 53, 41, 43, 43, 42,  1, 39, 52, 63,\n",
      "         1, 44, 59, 56, 58, 46, 43, 56,  6,  1, 46, 43, 39, 56,  1, 51, 43,  1,\n",
      "        57, 54, 43, 39, 49,  8,  0,  0, 13, 50, 50, 10,  0, 31, 54, 43, 39, 49,\n",
      "         6,  1, 57, 54, 43, 39, 49,  8,  0,  0, 18, 47, 56, 57, 58,  1, 15, 47,\n",
      "        58, 47, 64, 43, 52, 10,  0, 37, 53, 59])\n"
     ]
    }
   ],
   "source": [
    "data = torch.tensor(encode(text), dtype=torch.long)\n",
    "print(data.shape, data.type())\n",
    "print(data[:100])"
   ]
  },
  {
   "cell_type": "markdown",
   "id": "1f9c2624",
   "metadata": {
    "id": "OXHpkRBxk0zA",
    "papermill": {
     "duration": 0.005645,
     "end_time": "2024-11-20T16:14:21.650524",
     "exception": false,
     "start_time": "2024-11-20T16:14:21.644879",
     "status": "completed"
    },
    "tags": []
   },
   "source": [
    "### Data split"
   ]
  },
  {
   "cell_type": "code",
   "execution_count": 8,
   "id": "fc2e35f7",
   "metadata": {
    "execution": {
     "iopub.execute_input": "2024-11-20T16:14:21.662973Z",
     "iopub.status.busy": "2024-11-20T16:14:21.662695Z",
     "iopub.status.idle": "2024-11-20T16:14:21.668535Z",
     "shell.execute_reply": "2024-11-20T16:14:21.667712Z"
    },
    "executionInfo": {
     "elapsed": 4,
     "status": "ok",
     "timestamp": 1732113543648,
     "user": {
      "displayName": "Abdelrhman Ashraf",
      "userId": "11249532378747886614"
     },
     "user_tz": -120
    },
    "id": "q3W7wf0Nk0zA",
    "outputId": "f8bca2ee-9d70-4e54-f57c-72e728ed300a",
    "papermill": {
     "duration": 0.01391,
     "end_time": "2024-11-20T16:14:21.670040",
     "exception": false,
     "start_time": "2024-11-20T16:14:21.656130",
     "status": "completed"
    },
    "tags": []
   },
   "outputs": [
    {
     "name": "stdout",
     "output_type": "stream",
     "text": [
      "tensor([18, 47, 56, 57, 58,  1, 15, 47, 58, 47, 64, 43, 52, 10,  0, 14, 43, 44,\n",
      "        53, 56, 43,  1, 61, 43,  1, 54, 56, 53, 41, 43, 43, 42,  1, 39, 52, 63,\n",
      "         1, 44, 59, 56, 58, 46, 43, 56,  6,  1, 46, 43, 39, 56,  1, 51, 43,  1,\n",
      "        57, 54, 43, 39, 49,  8,  0,  0, 13, 50, 50, 10,  0, 31, 54, 43, 39, 49,\n",
      "         6,  1, 57, 54, 43, 39, 49,  8,  0,  0, 18, 47, 56, 57, 58,  1, 15, 47,\n",
      "        58, 47, 64, 43, 52, 10,  0, 37, 53, 59,  1, 39, 56, 43,  1, 39, 50, 50,\n",
      "         1, 56, 43, 57, 53, 50, 60, 43, 42,  1, 56, 39, 58, 46, 43, 56,  1, 58,\n",
      "        53,  1])\n"
     ]
    }
   ],
   "source": [
    "n = int(0.9*len(data)) # first 90% will be train, rest val\n",
    "train_data = data[:n]\n",
    "val_data = data[n:]\n",
    "print(train_data[:block_size])"
   ]
  },
  {
   "cell_type": "code",
   "execution_count": 9,
   "id": "6baa8931",
   "metadata": {
    "execution": {
     "iopub.execute_input": "2024-11-20T16:14:21.682290Z",
     "iopub.status.busy": "2024-11-20T16:14:21.682035Z",
     "iopub.status.idle": "2024-11-20T16:14:21.861729Z",
     "shell.execute_reply": "2024-11-20T16:14:21.860780Z"
    },
    "executionInfo": {
     "elapsed": 291,
     "status": "ok",
     "timestamp": 1732113543936,
     "user": {
      "displayName": "Abdelrhman Ashraf",
      "userId": "11249532378747886614"
     },
     "user_tz": -120
    },
    "id": "zEaLnDynk0zB",
    "outputId": "5e02225d-17bc-4769-c580-a97084bf11fb",
    "papermill": {
     "duration": 0.187862,
     "end_time": "2024-11-20T16:14:21.863573",
     "exception": false,
     "start_time": "2024-11-20T16:14:21.675711",
     "status": "completed"
    },
    "tags": []
   },
   "outputs": [
    {
     "name": "stdout",
     "output_type": "stream",
     "text": [
      "torch.Size([32, 128]) torch.Size([32, 128])\n"
     ]
    }
   ],
   "source": [
    "def get_batch(split_type):\n",
    "    data = train_data if split_type=='train' else val_data\n",
    "    ix = torch.randint(low=0, high=len(data)-block_size, size=(batch_size,), generator=g)\n",
    "    x = torch.stack([data[i:i+block_size] for i in ix]).to(device)\n",
    "    y = torch.stack([data[i+1:i+block_size+1] for i in ix]).to(device)\n",
    "    return x, y\n",
    "xb, yb = get_batch('train')\n",
    "print(xb.shape, yb.shape)"
   ]
  },
  {
   "cell_type": "code",
   "execution_count": 10,
   "id": "0d28d28b",
   "metadata": {
    "execution": {
     "iopub.execute_input": "2024-11-20T16:14:21.876987Z",
     "iopub.status.busy": "2024-11-20T16:14:21.876700Z",
     "iopub.status.idle": "2024-11-20T16:14:21.881720Z",
     "shell.execute_reply": "2024-11-20T16:14:21.880901Z"
    },
    "executionInfo": {
     "elapsed": 2,
     "status": "ok",
     "timestamp": 1732113543936,
     "user": {
      "displayName": "Abdelrhman Ashraf",
      "userId": "11249532378747886614"
     },
     "user_tz": -120
    },
    "id": "xW6fzm0uk0zB",
    "papermill": {
     "duration": 0.013375,
     "end_time": "2024-11-20T16:14:21.883312",
     "exception": false,
     "start_time": "2024-11-20T16:14:21.869937",
     "status": "completed"
    },
    "tags": []
   },
   "outputs": [],
   "source": [
    "@torch.no_grad()\n",
    "def estimate_loss(model):\n",
    "    out = {}\n",
    "    model.eval()\n",
    "    for split in ['train', 'val']:\n",
    "        losses = torch.zeros(eval_iters)\n",
    "        for k in range(eval_iters):\n",
    "            X, Y = get_batch(split)\n",
    "            logits, loss = model(X, Y)\n",
    "            losses[k] = loss.item()\n",
    "        out[split] = losses.mean()\n",
    "    model.train()\n",
    "    return out"
   ]
  },
  {
   "cell_type": "markdown",
   "id": "d0937d51",
   "metadata": {
    "id": "visiIHo_k0zB",
    "papermill": {
     "duration": 0.005775,
     "end_time": "2024-11-20T16:14:21.894983",
     "exception": false,
     "start_time": "2024-11-20T16:14:21.889208",
     "status": "completed"
    },
    "tags": []
   },
   "source": [
    "### Mathematical Trick to vectorized weighted aggregation"
   ]
  },
  {
   "cell_type": "code",
   "execution_count": 11,
   "id": "4a1cc947",
   "metadata": {
    "execution": {
     "iopub.execute_input": "2024-11-20T16:14:21.907890Z",
     "iopub.status.busy": "2024-11-20T16:14:21.907591Z",
     "iopub.status.idle": "2024-11-20T16:14:21.913221Z",
     "shell.execute_reply": "2024-11-20T16:14:21.912401Z"
    },
    "executionInfo": {
     "elapsed": 1,
     "status": "ok",
     "timestamp": 1732113543936,
     "user": {
      "displayName": "Abdelrhman Ashraf",
      "userId": "11249532378747886614"
     },
     "user_tz": -120
    },
    "id": "2JzlB4KNk0zB",
    "papermill": {
     "duration": 0.014052,
     "end_time": "2024-11-20T16:14:21.914964",
     "exception": false,
     "start_time": "2024-11-20T16:14:21.900912",
     "status": "completed"
    },
    "tags": []
   },
   "outputs": [],
   "source": [
    "B,T,C = (4,8,2)\n",
    "x = torch.randn(B,T,C)"
   ]
  },
  {
   "cell_type": "code",
   "execution_count": 12,
   "id": "eaa7bb26",
   "metadata": {
    "execution": {
     "iopub.execute_input": "2024-11-20T16:14:21.927588Z",
     "iopub.status.busy": "2024-11-20T16:14:21.927140Z",
     "iopub.status.idle": "2024-11-20T16:14:21.951054Z",
     "shell.execute_reply": "2024-11-20T16:14:21.950377Z"
    },
    "executionInfo": {
     "elapsed": 323,
     "status": "ok",
     "timestamp": 1732113544258,
     "user": {
      "displayName": "Abdelrhman Ashraf",
      "userId": "11249532378747886614"
     },
     "user_tz": -120
    },
    "id": "sglOiyhqk0zB",
    "papermill": {
     "duration": 0.031808,
     "end_time": "2024-11-20T16:14:21.952548",
     "exception": false,
     "start_time": "2024-11-20T16:14:21.920740",
     "status": "completed"
    },
    "tags": []
   },
   "outputs": [],
   "source": [
    "## Version 1\n",
    "xbow = torch.zeros_like(x)\n",
    "for t in range(T):\n",
    "    x_prev = x[:, :t+1, :]\n",
    "    xbow[:,[t], :] = torch.mean(x_prev, dim=1, keepdim=True)"
   ]
  },
  {
   "cell_type": "code",
   "execution_count": 13,
   "id": "33871d90",
   "metadata": {
    "execution": {
     "iopub.execute_input": "2024-11-20T16:14:21.965015Z",
     "iopub.status.busy": "2024-11-20T16:14:21.964789Z",
     "iopub.status.idle": "2024-11-20T16:14:21.993114Z",
     "shell.execute_reply": "2024-11-20T16:14:21.992299Z"
    },
    "executionInfo": {
     "elapsed": 4,
     "status": "ok",
     "timestamp": 1732113544259,
     "user": {
      "displayName": "Abdelrhman Ashraf",
      "userId": "11249532378747886614"
     },
     "user_tz": -120
    },
    "id": "oNxQT26Kk0zB",
    "outputId": "43982a0f-0462-4e9b-c273-f52b7defcfe8",
    "papermill": {
     "duration": 0.036448,
     "end_time": "2024-11-20T16:14:21.994778",
     "exception": false,
     "start_time": "2024-11-20T16:14:21.958330",
     "status": "completed"
    },
    "tags": []
   },
   "outputs": [
    {
     "data": {
      "text/plain": [
       "True"
      ]
     },
     "execution_count": 13,
     "metadata": {},
     "output_type": "execute_result"
    }
   ],
   "source": [
    "## Version 2\n",
    "wei = torch.tril(torch.ones((T,T))).float()\n",
    "wei = wei / wei.sum(dim=1, keepdim=True)\n",
    "xbow2 = wei @ x\n",
    "torch.allclose(xbow2, xbow)"
   ]
  },
  {
   "cell_type": "code",
   "execution_count": 14,
   "id": "3d57a5b0",
   "metadata": {
    "execution": {
     "iopub.execute_input": "2024-11-20T16:14:22.007688Z",
     "iopub.status.busy": "2024-11-20T16:14:22.007374Z",
     "iopub.status.idle": "2024-11-20T16:14:22.023270Z",
     "shell.execute_reply": "2024-11-20T16:14:22.022583Z"
    },
    "executionInfo": {
     "elapsed": 3,
     "status": "ok",
     "timestamp": 1732113544259,
     "user": {
      "displayName": "Abdelrhman Ashraf",
      "userId": "11249532378747886614"
     },
     "user_tz": -120
    },
    "id": "eRvOcqEhk0zB",
    "outputId": "ec1d64a5-8729-4d40-ac94-68bccd7495c0",
    "papermill": {
     "duration": 0.024076,
     "end_time": "2024-11-20T16:14:22.024795",
     "exception": false,
     "start_time": "2024-11-20T16:14:22.000719",
     "status": "completed"
    },
    "tags": []
   },
   "outputs": [
    {
     "data": {
      "text/plain": [
       "True"
      ]
     },
     "execution_count": 14,
     "metadata": {},
     "output_type": "execute_result"
    }
   ],
   "source": [
    "## Version 3: using softmax\n",
    "tril = torch.tril(torch.ones((T,T))).float()\n",
    "wei = torch.zeros((T,T))\n",
    "wei = wei.masked_fill(tril==0, float('-inf'))\n",
    "wei = F.softmax(wei, dim=1)\n",
    "xbow3 = wei @ x\n",
    "torch.allclose(xbow, xbow3)"
   ]
  },
  {
   "cell_type": "markdown",
   "id": "b423fae6",
   "metadata": {
    "id": "DtooryOXk0zB",
    "papermill": {
     "duration": 0.005949,
     "end_time": "2024-11-20T16:14:22.036822",
     "exception": false,
     "start_time": "2024-11-20T16:14:22.030873",
     "status": "completed"
    },
    "tags": []
   },
   "source": [
    "### Decoder only transformer"
   ]
  },
  {
   "cell_type": "code",
   "execution_count": 15,
   "id": "df43f645",
   "metadata": {
    "execution": {
     "iopub.execute_input": "2024-11-20T16:14:22.049416Z",
     "iopub.status.busy": "2024-11-20T16:14:22.049159Z",
     "iopub.status.idle": "2024-11-20T16:14:22.056158Z",
     "shell.execute_reply": "2024-11-20T16:14:22.055396Z"
    },
    "executionInfo": {
     "elapsed": 3,
     "status": "ok",
     "timestamp": 1732113544259,
     "user": {
      "displayName": "Abdelrhman Ashraf",
      "userId": "11249532378747886614"
     },
     "user_tz": -120
    },
    "id": "TAKDrdCCk0zB",
    "papermill": {
     "duration": 0.015234,
     "end_time": "2024-11-20T16:14:22.057888",
     "exception": false,
     "start_time": "2024-11-20T16:14:22.042654",
     "status": "completed"
    },
    "tags": []
   },
   "outputs": [],
   "source": [
    "class SelfAttention_Head(nn.Module):\n",
    "    \"\"\"One head of self-attention\"\"\"\n",
    "    def __init__(self, head_features):\n",
    "        super().__init__()\n",
    "        self.head_features = head_features\n",
    "\n",
    "        self.WQ = nn.Linear(dim_embd, head_features, bias=False)\n",
    "        self.WK = nn.Linear(dim_embd, head_features, bias=False)\n",
    "        self.WV = nn.Linear(dim_embd, head_features, bias=False)\n",
    "        self.register_buffer('tril', torch.tril(torch.ones(block_size, block_size)))\n",
    "        self.dropout = nn.Dropout(dropout)\n",
    "\n",
    "    def forward(self, x):\n",
    "\n",
    "        B,T,C = x.shape\n",
    "        q = self.WQ(x)\n",
    "        k = self.WK(x)\n",
    "\n",
    "        wei = q @ k.transpose(-2,-1) * k.shape[-1]**-0.5\n",
    "        ## this mask to disconnect the token from following tokens in the seqeunce\n",
    "        ## we will use this mask during training only\n",
    "        wei = wei.masked_fill(self.tril[:T,:T]==0, float('-inf'))\n",
    "        attention_weights = F.softmax(wei, dim=-1) ## this is attention weights\n",
    "        attention_weights = self.dropout(attention_weights)\n",
    "\n",
    "        v = self.WV(x)\n",
    "        out = attention_weights @ v\n",
    "        return out"
   ]
  },
  {
   "cell_type": "code",
   "execution_count": 16,
   "id": "93225a8c",
   "metadata": {
    "execution": {
     "iopub.execute_input": "2024-11-20T16:14:22.076195Z",
     "iopub.status.busy": "2024-11-20T16:14:22.075954Z",
     "iopub.status.idle": "2024-11-20T16:14:22.081011Z",
     "shell.execute_reply": "2024-11-20T16:14:22.080299Z"
    },
    "executionInfo": {
     "elapsed": 2,
     "status": "ok",
     "timestamp": 1732113544259,
     "user": {
      "displayName": "Abdelrhman Ashraf",
      "userId": "11249532378747886614"
     },
     "user_tz": -120
    },
    "id": "0c8IGmvKk0zC",
    "papermill": {
     "duration": 0.016066,
     "end_time": "2024-11-20T16:14:22.082644",
     "exception": false,
     "start_time": "2024-11-20T16:14:22.066578",
     "status": "completed"
    },
    "tags": []
   },
   "outputs": [],
   "source": [
    "class MultiHeadAttention(nn.Module):\n",
    "    \"\"\"Multiple heads of self-attention in parallel\"\"\"\n",
    "    def __init__(self, num_heads, head_features):\n",
    "        super().__init__()\n",
    "        self.heads = nn.ModuleList([SelfAttention_Head(head_features) for _ in range(num_heads)])\n",
    "        ## Projection to make output compatible with residual adding\n",
    "        self.proj = nn.Linear(head_features*num_heads, dim_embd)\n",
    "        self.dropout = nn.Dropout(dropout)\n",
    "    def forward(self, x):\n",
    "        x = torch.cat([h(x) for h in self.heads], dim=-1)\n",
    "        x = self.proj(x)\n",
    "        x = self.dropout(x)\n",
    "        return x"
   ]
  },
  {
   "cell_type": "code",
   "execution_count": 17,
   "id": "1bd710b2",
   "metadata": {
    "execution": {
     "iopub.execute_input": "2024-11-20T16:14:22.095712Z",
     "iopub.status.busy": "2024-11-20T16:14:22.095105Z",
     "iopub.status.idle": "2024-11-20T16:14:22.100140Z",
     "shell.execute_reply": "2024-11-20T16:14:22.099466Z"
    },
    "executionInfo": {
     "elapsed": 2,
     "status": "ok",
     "timestamp": 1732113544259,
     "user": {
      "displayName": "Abdelrhman Ashraf",
      "userId": "11249532378747886614"
     },
     "user_tz": -120
    },
    "id": "V-yS-y26k0zC",
    "papermill": {
     "duration": 0.012928,
     "end_time": "2024-11-20T16:14:22.101601",
     "exception": false,
     "start_time": "2024-11-20T16:14:22.088673",
     "status": "completed"
    },
    "tags": []
   },
   "outputs": [],
   "source": [
    "class FeedForward(nn.Module):\n",
    "    def __init__(self, in_features):\n",
    "        super().__init__()\n",
    "        self.fc = nn.Sequential(\n",
    "            nn.Linear(in_features, in_features * 4),\n",
    "            nn.ReLU(),\n",
    "            ## Projection to make output compatible with residual adding\n",
    "            nn.Linear(in_features * 4, in_features),\n",
    "            nn.Dropout(dropout)\n",
    "        )\n",
    "\n",
    "    def forward(self, x):\n",
    "        return self.fc(x)"
   ]
  },
  {
   "cell_type": "code",
   "execution_count": 18,
   "id": "fdf6af6f",
   "metadata": {
    "execution": {
     "iopub.execute_input": "2024-11-20T16:14:22.114559Z",
     "iopub.status.busy": "2024-11-20T16:14:22.114266Z",
     "iopub.status.idle": "2024-11-20T16:14:22.119785Z",
     "shell.execute_reply": "2024-11-20T16:14:22.119045Z"
    },
    "executionInfo": {
     "elapsed": 2,
     "status": "ok",
     "timestamp": 1732113544259,
     "user": {
      "displayName": "Abdelrhman Ashraf",
      "userId": "11249532378747886614"
     },
     "user_tz": -120
    },
    "id": "I-QbWT-Xk0zC",
    "papermill": {
     "duration": 0.013927,
     "end_time": "2024-11-20T16:14:22.121416",
     "exception": false,
     "start_time": "2024-11-20T16:14:22.107489",
     "status": "completed"
    },
    "tags": []
   },
   "outputs": [],
   "source": [
    "## LayerNorm: same as BatchNorm ,but it normalize the rows not the columns\n",
    "class Block(nn.Module):\n",
    "    def __init__(self, input_features, num_heads):\n",
    "        super().__init__()\n",
    "        head_size = input_features // num_heads\n",
    "        self.sa = MultiHeadAttention(num_heads, head_size)\n",
    "        self.ffwd = FeedForward(input_features)\n",
    "        self.ln1 = nn.LayerNorm(input_features)\n",
    "        self.ln2 = nn.LayerNorm(input_features)\n",
    "\n",
    "    def forward(self, x):\n",
    "        ## (x +) is for residual connections\n",
    "        x = x + self.sa(self.ln1(x))\n",
    "        x = x + self.ffwd(self.ln2(x))\n",
    "        return x"
   ]
  },
  {
   "cell_type": "code",
   "execution_count": 19,
   "id": "71aac3f5",
   "metadata": {
    "execution": {
     "iopub.execute_input": "2024-11-20T16:14:22.134633Z",
     "iopub.status.busy": "2024-11-20T16:14:22.134339Z",
     "iopub.status.idle": "2024-11-20T16:14:22.146310Z",
     "shell.execute_reply": "2024-11-20T16:14:22.145544Z"
    },
    "executionInfo": {
     "elapsed": 302,
     "status": "ok",
     "timestamp": 1732113544559,
     "user": {
      "displayName": "Abdelrhman Ashraf",
      "userId": "11249532378747886614"
     },
     "user_tz": -120
    },
    "id": "0-AjQi8nk0zC",
    "papermill": {
     "duration": 0.020599,
     "end_time": "2024-11-20T16:14:22.148004",
     "exception": false,
     "start_time": "2024-11-20T16:14:22.127405",
     "status": "completed"
    },
    "tags": []
   },
   "outputs": [],
   "source": [
    "class Attentioned_LM(nn.Module):\n",
    "    def __init__(self):\n",
    "        super().__init__()\n",
    "        self.block_size = block_size\n",
    "        self.embd_layers = nn.Embedding(vocab_size, dim_embd)\n",
    "        self.position_encoding_layer = nn.Embedding(block_size, dim_embd)\n",
    "        self.blocks = nn.Sequential(*[Block(dim_embd, num_heads=head_size) for _ in range(n_blocks)])\n",
    "        self.ln_f = nn.LayerNorm(dim_embd)\n",
    "        self.lm_head = nn.Linear(dim_embd, vocab_size)\n",
    "        self.apply(self._init_weights)\n",
    "    \n",
    "\n",
    "    def _init_weights(self, module):\n",
    "        if isinstance(module, nn.Linear):\n",
    "            torch.nn.init.normal_(module.weight, mean=0.0, std=0.02)\n",
    "            if module.bias is not None:\n",
    "                torch.nn.init.zeros_(module.bias)\n",
    "        elif isinstance(module, nn.Embedding):\n",
    "            torch.nn.init.normal_(module.weight, mean=0.0, std=0.02)\n",
    "\n",
    "\n",
    "    def forward(self, idx, targets=None):\n",
    "        B, T = idx.shape\n",
    "\n",
    "        embdings = self.embd_layers(idx)\n",
    "        pos_encodes = self.position_encoding_layer(torch.arange(T, device=device))\n",
    "        x = embdings + pos_encodes ## (B,T,dim_embd) + (T,dim_embd) = (B,T,dim_embd) broadcast happened\n",
    "        x = self.blocks(x)\n",
    "        x = self.ln_f(x)\n",
    "        logits = self.lm_head(x)\n",
    "\n",
    "        if targets is None:\n",
    "            loss = None\n",
    "        else:\n",
    "            batch, seq_len, embds = logits.shape\n",
    "            logits = logits.view(batch*seq_len, embds)\n",
    "            targets = targets.view(batch*seq_len)\n",
    "            loss = F.cross_entropy(logits, targets)\n",
    "\n",
    "        return logits, loss\n",
    "\n",
    "\n",
    "    def generate(self, idx, max_new_tokens):\n",
    "        # idx is (B, T) array of indices in the current context\n",
    "        for _ in range(max_new_tokens):\n",
    "            # crop idx to the last block_size tokens\n",
    "            idx_cond = idx[:, -block_size:]\n",
    "            # get the predictions\n",
    "            logits, loss = self(idx_cond)\n",
    "            # focus only on the last time step\n",
    "            logits = logits[:, -1, :] # becomes (B, C)\n",
    "            # apply softmax to get probabilities\n",
    "            # print(logits)\n",
    "            probs = F.softmax(logits, dim=-1) # (B, C)\n",
    "            # sample from the distribution\n",
    "            # print(probs)\n",
    "            idx_next = torch.multinomial(probs, num_samples=1) # (B, 1)\n",
    "            # append sampled index to the running sequence\n",
    "            idx = torch.cat((idx, idx_next), dim=1) # (B, T+1)\n",
    "        return idx\n",
    "\n",
    "## In this code we still preserve history tokens, however we don't use them.\n"
   ]
  },
  {
   "cell_type": "code",
   "execution_count": 20,
   "id": "ab980bd1",
   "metadata": {
    "execution": {
     "iopub.execute_input": "2024-11-20T16:14:22.165053Z",
     "iopub.status.busy": "2024-11-20T16:14:22.164817Z",
     "iopub.status.idle": "2024-11-20T16:14:24.345260Z",
     "shell.execute_reply": "2024-11-20T16:14:24.344618Z"
    },
    "executionInfo": {
     "elapsed": 2953,
     "status": "ok",
     "timestamp": 1732114303006,
     "user": {
      "displayName": "Abdelrhman Ashraf",
      "userId": "11249532378747886614"
     },
     "user_tz": -120
    },
    "id": "MTsNeOqFk0zC",
    "papermill": {
     "duration": 2.190711,
     "end_time": "2024-11-20T16:14:24.347271",
     "exception": false,
     "start_time": "2024-11-20T16:14:22.156560",
     "status": "completed"
    },
    "tags": []
   },
   "outputs": [],
   "source": [
    "model = Attentioned_LM()\n",
    "m = model.to(device)\n",
    "optimizer = AdamW(m.parameters(), lr=learning_rate)\n",
    "\n",
    "# input = torch.zeros((1, 1), dtype=torch.long).to(device)\n",
    "# print(decode(m.generate(input, max_new_tokens=100)[0].tolist()))"
   ]
  },
  {
   "cell_type": "code",
   "execution_count": 21,
   "id": "ae93f5f3",
   "metadata": {
    "execution": {
     "iopub.execute_input": "2024-11-20T16:14:24.361099Z",
     "iopub.status.busy": "2024-11-20T16:14:24.360329Z",
     "iopub.status.idle": "2024-11-20T17:28:09.102766Z",
     "shell.execute_reply": "2024-11-20T17:28:09.101767Z"
    },
    "executionInfo": {
     "elapsed": 984557,
     "status": "error",
     "timestamp": 1732115289006,
     "user": {
      "displayName": "Abdelrhman Ashraf",
      "userId": "11249532378747886614"
     },
     "user_tz": -120
    },
    "id": "bRx_Ww33k0zC",
    "outputId": "6ed7ad26-965b-44d9-c56b-568e2df43133",
    "papermill": {
     "duration": 4424.751345,
     "end_time": "2024-11-20T17:28:09.105055",
     "exception": false,
     "start_time": "2024-11-20T16:14:24.353710",
     "status": "completed"
    },
    "tags": []
   },
   "outputs": [
    {
     "name": "stdout",
     "output_type": "stream",
     "text": [
      "step 0: train loss 4.2022, val loss 4.2054\n",
      "step 500: train loss 2.1278, val loss 2.1789\n",
      "step 1000: train loss 1.7894, val loss 1.9363\n",
      "step 1500: train loss 1.6039, val loss 1.7943\n",
      "step 2000: train loss 1.5124, val loss 1.7204\n",
      "step 2499: train loss 1.4440, val loss 1.6615\n"
     ]
    }
   ],
   "source": [
    "for iter in range(max_iters):\n",
    "    if iter % eval_interval == 0 or iter == max_iters - 1:\n",
    "        losses = estimate_loss(model)\n",
    "        print(f\"step {iter}: train loss {losses['train']:.4f}, val loss {losses['val']:.4f}\")\n",
    "    # sample a batch of data\n",
    "    xb, yb = get_batch('train')\n",
    "\n",
    "    # evaluate the loss\n",
    "    logits, loss = m(xb, yb)\n",
    "    optimizer.zero_grad(set_to_none=True)\n",
    "    loss.backward()\n",
    "    optimizer.step()"
   ]
  },
  {
   "cell_type": "code",
   "execution_count": 22,
   "id": "4b8bf4d1",
   "metadata": {
    "execution": {
     "iopub.execute_input": "2024-11-20T17:28:09.119680Z",
     "iopub.status.busy": "2024-11-20T17:28:09.119345Z",
     "iopub.status.idle": "2024-11-20T17:34:52.143089Z",
     "shell.execute_reply": "2024-11-20T17:34:52.142185Z"
    },
    "executionInfo": {
     "elapsed": 4,
     "status": "aborted",
     "timestamp": 1732114295871,
     "user": {
      "displayName": "Abdelrhman Ashraf",
      "userId": "11249532378747886614"
     },
     "user_tz": -120
    },
    "id": "9TENycEluFAe",
    "papermill": {
     "duration": 403.039349,
     "end_time": "2024-11-20T17:34:52.150961",
     "exception": false,
     "start_time": "2024-11-20T17:28:09.111612",
     "status": "completed"
    },
    "tags": []
   },
   "outputs": [
    {
     "name": "stdout",
     "output_type": "stream",
     "text": [
      "\n",
      "HORD EOW:\n",
      "Vophrouo! a procemed of design this head?\n",
      "Shall he not good how night?\n",
      "\n",
      "COMINIUS:\n",
      "Ah, all as born,\n",
      "I am hand!\n",
      "\n",
      "POLIXENES:\n",
      "I'll o'-make a I will let that ssort be, treal mine\n",
      "Is that thou palenth, that shall hath contentl'd\n",
      "For loss you let rother: if all bit by fine,\n",
      "As how you love speak me, and by rags will grief\n",
      "To contenter apperfure'd bang in as fair\n",
      "Than your contry off his adver,\n",
      "See, how a know holer, I'll and tall hear his sustil,\n",
      "I the remaimsain come to his what the all how myself?\n",
      "I never little us o' full all; I warrant\n",
      "That ongle are-such die.\n",
      "\n",
      "LUCIO:\n",
      "Nay, if any for God's hand prit is king: thus, I had know\n",
      "a not bleasted all ne'er bear deep do lin;\n",
      "By be g, a droth Hencenge my busing please,\n",
      "When must ill the flew your old stame of the mothers\n",
      "Sorrow clourse of here; and a perser'd Husband.\n",
      "\n",
      "CAPULET:\n",
      "My lord, as by childer, go he would shall be\n",
      "stay a all your repue's guard: so in horsest know's\n",
      "good on grief no to mine sworn upon which you.\n",
      "\n",
      "FRIAR LAURENCE:\n",
      "G\n"
     ]
    }
   ],
   "source": [
    "with torch.no_grad():\n",
    "    m.eval()\n",
    "    input = torch.zeros((1, 1), dtype=torch.long).to(device)\n",
    "    print(decode(m.generate(input, max_new_tokens=1000)[0].tolist()))\n",
    "    m.train()"
   ]
  },
  {
   "cell_type": "code",
   "execution_count": null,
   "id": "2cab6307",
   "metadata": {
    "execution": {
     "iopub.execute_input": "2024-11-20T17:34:52.164723Z",
     "iopub.status.busy": "2024-11-20T17:34:52.164382Z",
     "iopub.status.idle": "2024-11-20T17:34:53.334349Z",
     "shell.execute_reply": "2024-11-20T17:34:53.333671Z"
    },
    "executionInfo": {
     "elapsed": 4,
     "status": "aborted",
     "timestamp": 1732114295871,
     "user": {
      "displayName": "Abdelrhman Ashraf",
      "userId": "11249532378747886614"
     },
     "user_tz": -120
    },
    "id": "NtTT8Lpo2gvJ",
    "papermill": {
     "duration": 1.17939,
     "end_time": "2024-11-20T17:34:53.336715",
     "exception": false,
     "start_time": "2024-11-20T17:34:52.157325",
     "status": "completed"
    },
    "tags": []
   },
   "outputs": [],
   "source": [
    "torch.save(m, './nanoGpt.bin')"
   ]
  },
  {
   "cell_type": "code",
   "execution_count": 24,
   "id": "efd2dfd8",
   "metadata": {
    "execution": {
     "iopub.execute_input": "2024-11-20T17:34:53.350959Z",
     "iopub.status.busy": "2024-11-20T17:34:53.350664Z",
     "iopub.status.idle": "2024-11-20T17:34:53.354112Z",
     "shell.execute_reply": "2024-11-20T17:34:53.353444Z"
    },
    "executionInfo": {
     "elapsed": 4,
     "status": "aborted",
     "timestamp": 1732114295871,
     "user": {
      "displayName": "Abdelrhman Ashraf",
      "userId": "11249532378747886614"
     },
     "user_tz": -120
    },
    "id": "U3xAuriik0zC",
    "papermill": {
     "duration": 0.012356,
     "end_time": "2024-11-20T17:34:53.355733",
     "exception": false,
     "start_time": "2024-11-20T17:34:53.343377",
     "status": "completed"
    },
    "tags": []
   },
   "outputs": [],
   "source": [
    "# GG"
   ]
  }
 ],
 "metadata": {
  "accelerator": "GPU",
  "colab": {
   "gpuType": "T4",
   "provenance": []
  },
  "kaggle": {
   "accelerator": "gpu",
   "dataSources": [],
   "dockerImageVersionId": 30787,
   "isGpuEnabled": true,
   "isInternetEnabled": true,
   "language": "python",
   "sourceType": "notebook"
  },
  "kernelspec": {
   "display_name": "Python 3",
   "language": "python",
   "name": "python3"
  },
  "language_info": {
   "codemirror_mode": {
    "name": "ipython",
    "version": 3
   },
   "file_extension": ".py",
   "mimetype": "text/x-python",
   "name": "python",
   "nbconvert_exporter": "python",
   "pygments_lexer": "ipython3",
   "version": "3.10.14"
  },
  "papermill": {
   "default_parameters": {},
   "duration": 4839.901598,
   "end_time": "2024-11-20T17:34:54.682777",
   "environment_variables": {},
   "exception": null,
   "input_path": "__notebook__.ipynb",
   "output_path": "__notebook__.ipynb",
   "parameters": {},
   "start_time": "2024-11-20T16:14:14.781179",
   "version": "2.6.0"
  }
 },
 "nbformat": 4,
 "nbformat_minor": 5
}
